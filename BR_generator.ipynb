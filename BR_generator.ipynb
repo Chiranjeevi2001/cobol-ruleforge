{
 "cells": [
  {
   "cell_type": "markdown",
   "id": "93b85062",
   "metadata": {},
   "source": [
    "# Dataset generation notebook for COBOL -BR JSON automation"
   ]
  },
  {
   "cell_type": "markdown",
   "id": "eba6677b",
   "metadata": {},
   "source": [
    "## Import the required libraries"
   ]
  },
  {
   "cell_type": "code",
   "execution_count": 1,
   "id": "f91c5d75",
   "metadata": {},
   "outputs": [],
   "source": [
    "import subprocess"
   ]
  },
  {
   "cell_type": "code",
   "execution_count": 2,
   "id": "000af2b6",
   "metadata": {},
   "outputs": [
    {
     "name": "stdout",
     "output_type": "stream",
     "text": [
      "Library not found. Installing...\n",
      "Library installed successfully.\n"
     ]
    }
   ],
   "source": [
    "try:\n",
    "    import pathtlib\n",
    "except ImportError:\n",
    "    print(\"Library not found. Installing...\")\n",
    "    try:\n",
    "        subprocess.check_call([\"pip\", \"install\", \"pathlib\"])\n",
    "        print(\"Library installed successfully.\")\n",
    "        import pathlib  # Now try importing again\n",
    "    except Exception as e:\n",
    "        print(f\"Failed to install library: {e}\")\n"
   ]
  },
  {
   "cell_type": "code",
   "execution_count": 3,
   "id": "7cc34886",
   "metadata": {},
   "outputs": [],
   "source": [
    "try:\n",
    "    import textwrap\n",
    "except ImportError:\n",
    "    print(\"Library not found. Installing...\")\n",
    "    try:\n",
    "        subprocess.check_call([\"pip\", \"install\", \"textwrap\"])\n",
    "        print(\"Library installed successfully.\")\n",
    "        import textwrap  # Now try importing again\n",
    "    except Exception as e:\n",
    "        print(f\"Failed to install library: {e}\")"
   ]
  },
  {
   "cell_type": "code",
   "execution_count": 4,
   "id": "84fedb8c",
   "metadata": {},
   "outputs": [],
   "source": [
    "try:\n",
    "    import google.generativeai as genai\n",
    "except ImportError:\n",
    "    print(\"Library not found. Installing...\")\n",
    "    try:\n",
    "        subprocess.check_call([\"pip\", \"install\", \"google.generativeai\"])\n",
    "        print(\"Library installed successfully.\")\n",
    "        import google.generativeai as genai  # Now try importing again\n",
    "    except Exception as e:\n",
    "        print(f\"Failed to install library: {e}\")"
   ]
  },
  {
   "cell_type": "code",
   "execution_count": 5,
   "id": "38266b2e",
   "metadata": {},
   "outputs": [],
   "source": [
    "from IPython.display import display\n",
    "from IPython.display import Markdown\n",
    "import time\n",
    "import json\n",
    "import pandas as pd"
   ]
  },
  {
   "cell_type": "code",
   "execution_count": 6,
   "id": "3a37ce4d",
   "metadata": {},
   "outputs": [
    {
     "name": "stdout",
     "output_type": "stream",
     "text": [
      "Requirement already satisfied: transformers in c:\\users\\chira\\appdata\\local\\programs\\python\\python310\\lib\\site-packages (4.36.2)\n",
      "Requirement already satisfied: filelock in c:\\users\\chira\\appdata\\local\\programs\\python\\python310\\lib\\site-packages (from transformers) (3.12.0)\n",
      "Requirement already satisfied: huggingface-hub<1.0,>=0.19.3 in c:\\users\\chira\\appdata\\local\\programs\\python\\python310\\lib\\site-packages (from transformers) (0.21.4)\n",
      "Requirement already satisfied: numpy>=1.17 in c:\\users\\chira\\appdata\\local\\programs\\python\\python310\\lib\\site-packages (from transformers) (1.23.4)\n",
      "Requirement already satisfied: packaging>=20.0 in c:\\users\\chira\\appdata\\local\\programs\\python\\python310\\lib\\site-packages (from transformers) (21.3)\n",
      "Requirement already satisfied: pyyaml>=5.1 in c:\\users\\chira\\appdata\\local\\programs\\python\\python310\\lib\\site-packages (from transformers) (6.0)\n",
      "Requirement already satisfied: regex!=2019.12.17 in c:\\users\\chira\\appdata\\local\\programs\\python\\python310\\lib\\site-packages (from transformers) (2022.3.2)\n",
      "Requirement already satisfied: requests in c:\\users\\chira\\appdata\\local\\programs\\python\\python310\\lib\\site-packages (from transformers) (2.28.1)\n",
      "Requirement already satisfied: tokenizers<0.19,>=0.14 in c:\\users\\chira\\appdata\\local\\programs\\python\\python310\\lib\\site-packages (from transformers) (0.15.2)\n",
      "Requirement already satisfied: safetensors>=0.3.1 in c:\\users\\chira\\appdata\\local\\programs\\python\\python310\\lib\\site-packages (from transformers) (0.4.2)\n",
      "Requirement already satisfied: tqdm>=4.27 in c:\\users\\chira\\appdata\\local\\programs\\python\\python310\\lib\\site-packages (from transformers) (4.65.0)\n",
      "Requirement already satisfied: fsspec>=2023.5.0 in c:\\users\\chira\\appdata\\local\\programs\\python\\python310\\lib\\site-packages (from huggingface-hub<1.0,>=0.19.3->transformers) (2023.5.0)\n",
      "Requirement already satisfied: typing-extensions>=3.7.4.3 in c:\\users\\chira\\appdata\\local\\programs\\python\\python310\\lib\\site-packages (from huggingface-hub<1.0,>=0.19.3->transformers) (4.5.0)\n",
      "Requirement already satisfied: pyparsing!=3.0.5,>=2.0.2 in c:\\users\\chira\\appdata\\local\\programs\\python\\python310\\lib\\site-packages (from packaging>=20.0->transformers) (3.0.9)\n",
      "Requirement already satisfied: colorama in c:\\users\\chira\\appdata\\local\\programs\\python\\python310\\lib\\site-packages (from tqdm>=4.27->transformers) (0.4.5)\n",
      "Requirement already satisfied: charset-normalizer<3,>=2 in c:\\users\\chira\\appdata\\local\\programs\\python\\python310\\lib\\site-packages (from requests->transformers) (2.1.1)\n",
      "Requirement already satisfied: idna<4,>=2.5 in c:\\users\\chira\\appdata\\local\\programs\\python\\python310\\lib\\site-packages (from requests->transformers) (3.4)\n",
      "Requirement already satisfied: urllib3<1.27,>=1.21.1 in c:\\users\\chira\\appdata\\local\\programs\\python\\python310\\lib\\site-packages (from requests->transformers) (1.26.12)\n",
      "Requirement already satisfied: certifi>=2017.4.17 in c:\\users\\chira\\appdata\\local\\programs\\python\\python310\\lib\\site-packages (from requests->transformers) (2022.9.24)\n"
     ]
    },
    {
     "name": "stderr",
     "output_type": "stream",
     "text": [
      "WARNING: Ignoring invalid distribution -rotobuf (c:\\users\\chira\\appdata\\local\\programs\\python\\python310\\lib\\site-packages)\n",
      "WARNING: Ignoring invalid distribution -rotobuf (c:\\users\\chira\\appdata\\local\\programs\\python\\python310\\lib\\site-packages)\n"
     ]
    }
   ],
   "source": [
    "!pip install transformers"
   ]
  },
  {
   "cell_type": "code",
   "execution_count": 7,
   "id": "a223999a",
   "metadata": {},
   "outputs": [],
   "source": [
    "from transformers import LlamaTokenizer"
   ]
  },
  {
   "cell_type": "code",
   "execution_count": 8,
   "id": "83cbcb8e",
   "metadata": {},
   "outputs": [
    {
     "data": {
      "text/plain": [
       "'# you take a COBOL program and create Business Rules for it.\\n# you are GREAT at extracting the business rules from all business variables in the code.\\n# A business rules are defined as everyday business logics that get coded into the program.\\n# There is a clear distinction between a business rule and a trivial validation. A business rule MAY CHANGE over time, but a trivial validation does not.\\n# DO NOT INCLUDE ANYTHING OTHER THAN THE JSON in your response.\\n# Generation of multiple Business Rules from a COBOL file is preferable.\\n# mention the business rule id in your response.\\n# your answer MUST be a valid json format, with each property of a business rule clearly listed.\\n# any \\'\\\\n\\' in the text fields MUST be \\'\\\\\\\\n\\' so that when reading it later on, we won\\'t run into any issues\\n\\n# example input and output with a simple COBOL file\\n# Input:\\n       IDENTIFICATION DIVISION.\\n       PROGRAM-ID. EXAMPLE.\\n       DATA DIVISION.\\n       WORKING-STORAGE SECTION.\\n       77  NUM         PICTURE 99.\\n       77  QUOTIENT    PICTURE 99.\\n       77  REMAIN      PICTURE 9.\\n       PROCEDURE DIVISION.\\n           ACCEPT NUM.\\n           DIVIDE NUM BY 2 GIVING QUOTIENT REMAINDER REMAIN.\\n           IF REMAIN = 0\\n                   DISPLAY NUM \\' IS EVEN\\'\\n           ELSE\\n                   DISPLAY  NUM \\' IS ODD\\'\\n           END-IF.\\n           STOP RUN.\\n# Output:\\n{\\n  \"id\": \"BR-001\",  \"description\": \"A number is even if the remainder after dividing by 2 is 0, otherwise it is odd.\",\\n  \"condition\": \"NUM DIV 2\",\\n  \"output\": {\\n    \"even\": \"NUM is EVEN\",\\n    \"odd\": \"NUM is ODD\"\\n  }\\n}\\n# end of examples.\\n\\n# this is the COBOL code:'"
      ]
     },
     "execution_count": 8,
     "metadata": {},
     "output_type": "execute_result"
    }
   ],
   "source": [
    "directory_path_CBL = \"./Test_COBOLs/InputFiles\"\n",
    "output_directory = \"./Test_COBOLs/BR_JSON\"\n",
    "\n",
    "geminiApiKey = ''\n",
    "\n",
    "with open('codeSystemMessage.txt','r') as file:\n",
    "    code_systemMessage = file.read()\n",
    "\n",
    "code_systemMessage"
   ]
  },
  {
   "cell_type": "markdown",
   "id": "b2159c5b",
   "metadata": {},
   "source": [
    "## Get the paths of all CBL files"
   ]
  },
  {
   "cell_type": "code",
   "execution_count": 9,
   "id": "9e48eec6",
   "metadata": {},
   "outputs": [],
   "source": [
    "import glob"
   ]
  },
  {
   "cell_type": "code",
   "execution_count": 10,
   "id": "4e81425c",
   "metadata": {},
   "outputs": [
    {
     "data": {
      "text/plain": [
       "12"
      ]
     },
     "execution_count": 10,
     "metadata": {},
     "output_type": "execute_result"
    }
   ],
   "source": [
    "def get_cbl_files(directory):\n",
    "    cbl_files = glob.glob(directory+ '/*.cbl', recursive=True)\n",
    "    return cbl_files\n",
    "\n",
    "cbl_files = get_cbl_files(directory_path_CBL)\n",
    "\n",
    "len(cbl_files)"
   ]
  },
  {
   "cell_type": "code",
   "execution_count": 11,
   "id": "9f3302fe",
   "metadata": {
    "scrolled": true
   },
   "outputs": [
    {
     "name": "stdout",
     "output_type": "stream",
     "text": [
      "       IDENTIFICATION DIVISION.\n",
      "       PROGRAM-ID.  CWBWDATE.\n",
      "       ENVIRONMENT DIVISION.\n",
      "       DATA DIVISION.\n",
      "       WORKING-STORAGE SECTION.\n",
      "       01  DATE-TABLE.\n",
      "           05  FILLER                 PIC 9(4)    VALUE 0131.\n",
      "           05  FILLER                 PIC 9(4)    VALUE 0228.\n",
      "           05  FILLER                 PIC 9(4)    VALUE 0331.\n",
      "           05  FILLER                 PIC 9(4)    VALUE 0430.\n",
      "           05  FILLER                 PIC 9(4)    VALUE 0531.\n",
      "           05  FILLER                 PIC 9(4)    VALUE 0630.\n",
      "           05  FILLER                 PIC 9(4)    VALUE 0731.\n",
      "           05  FILLER                 PIC 9(4)    VALUE 0831.\n",
      "           05  FILLER                 PIC 9(4)    VALUE 0930.\n",
      "           05  FILLER                 PIC 9(4)    VALUE 1031.\n",
      "           05  FILLER                 PIC 9(4)    VALUE 1130.\n",
      "           05  FILLER                 PIC 9(4)    VALUE 1231.\n",
      "       01  DATE-TABLE-REDEFINED REDEFINES DATE-TABLE.\n",
      "           05  DATE-FIELDS OCCURS 12 TIMES.\n",
      "               10  DATE-MM            PIC 9(2).\n",
      "               10  DATE-DD            PIC 9(2).\n",
      "       01  WORK-AREAS.\n",
      "           05  HOLD-YEARS             PIC 9(2)    VALUE 0.\n",
      "           05  EXTRA-YEARS            PIC 9(2)    VALUE 0.\n",
      "           05  CHECKED-FOR-EOM-SW     PIC X       VALUE 'N'.\n",
      "               88  CHECKED-FOR-EOM                VALUE 'Y'.\n",
      "       LINKAGE SECTION.\n",
      "       01  EOM-SW                     PIC X.\n",
      "       01  YRS-OF-SERVICE             PIC 9(2).\n",
      "       01  RUN-DATE.\n",
      "           05  RUN-YY                 PIC 9(2).\n",
      "           05  RUN-MM                 PIC 9(2).\n",
      "           05  RUN-DD                 PIC 9(2).\n",
      "       01  HIRE-DATE.\n",
      "           05  HIRE-YY                PIC 9(2).\n",
      "           05  HIRE-MM                PIC 9(2).\n",
      "           05  HIRE-DD                PIC 9(2).\n",
      "       PROCEDURE DIVISION USING EOM-SW,\n",
      "                                YRS-OF-SERVICE,\n",
      "                                RUN-DATE,\n",
      "                                HIRE-DATE.\n",
      "       0000-MAINLINE.\n",
      "           IF CHECKED-FOR-EOM\n",
      "               PERFORM 1000-CALC-YRS-OF-SERVICE\n",
      "           ELSE\n",
      "               PERFORM 2000-CALC-END-OF-MONTH\n",
      "               MOVE 'Y' TO CHECKED-FOR-EOM-SW.\n",
      "           GOBACK.\n",
      "         1000-CALC-YRS-OF-SERVICE.\n",
      "             IF HIRE-YY > RUN-YY                                        11032000\n",
      "                   COMPUTE YRS-OF-SERVICE = (100 + RUN-YY) - HIRE-YY    11032000\n",
      "               ELSE                                                     11032000\n",
      "                  COMPUTE YRS-OF-SERVICE = RUN-YY - HIRE-YY.\n",
      "             IF HIRE-MM > RUN-MM\n",
      "                 COMPUTE YRS-OF-SERVICE = YRS-OF-SERVICE - 1\n",
      "             ELSE\n",
      "                 IF HIRE-MM = RUN-MM\n",
      "                     IF HIRE-DD > RUN-DD\n",
      "                        COMPUTE YRS-OF-SERVICE = YRS-OF-SERVICE - 1.\n",
      "         2000-CALC-END-OF-MONTH.\n",
      "             IF RUN-MM = 02\n",
      "                 PERFORM 3000-CALC-LEAP-YEAR\n",
      "             ELSE\n",
      "                 IF DATE-DD(RUN-MM) = RUN-DD\n",
      "                     MOVE 'Y' TO EOM-SW.\n",
      "         3000-CALC-LEAP-YEAR.\n",
      "             DIVIDE RUN-YY BY 4\n",
      "                 GIVING HOLD-YEARS\n",
      "                 REMAINDER EXTRA-YEARS.\n",
      "             IF EXTRA-YEARS = 0\n",
      "                 IF RUN-DD = 29\n",
      "                     MOVE 'Y' TO EOM-SW.\n"
     ]
    }
   ],
   "source": [
    "with open(cbl_files[4], 'r') as file:\n",
    "    file_content = file.read()\n",
    "print(file_content)"
   ]
  },
  {
   "cell_type": "markdown",
   "id": "183da6fc",
   "metadata": {},
   "source": [
    "## Count all tokens in a program"
   ]
  },
  {
   "cell_type": "code",
   "execution_count": 25,
   "id": "1695c85b",
   "metadata": {},
   "outputs": [
    {
     "name": "stdout",
     "output_type": "stream",
     "text": [
      "Requirement already satisfied: sentencepiece in c:\\users\\chira\\appdata\\local\\programs\\python\\python310\\lib\\site-packages (0.2.0)\n"
     ]
    },
    {
     "name": "stderr",
     "output_type": "stream",
     "text": [
      "WARNING: Ignoring invalid distribution -rotobuf (c:\\users\\chira\\appdata\\local\\programs\\python\\python310\\lib\\site-packages)\n",
      "WARNING: Ignoring invalid distribution -rotobuf (c:\\users\\chira\\appdata\\local\\programs\\python\\python310\\lib\\site-packages)\n",
      "\n",
      "[notice] A new release of pip is available: 23.3.2 -> 24.0\n",
      "[notice] To update, run: python.exe -m pip install --upgrade pip\n"
     ]
    }
   ],
   "source": [
    "!pip install sentencepiece"
   ]
  },
  {
   "cell_type": "code",
   "execution_count": 26,
   "id": "b186465b",
   "metadata": {},
   "outputs": [],
   "source": [
    "\n",
    "file_content =\"\"\n",
    "for doc in cbl_files:\n",
    "    with open(doc, 'r',encoding='latin-1') as file:\n",
    "        file_content = file_content + file.read()"
   ]
  },
  {
   "cell_type": "code",
   "execution_count": 27,
   "id": "94bcfda3",
   "metadata": {},
   "outputs": [
    {
     "data": {
      "text/plain": [
       "6274080"
      ]
     },
     "execution_count": 27,
     "metadata": {},
     "output_type": "execute_result"
    }
   ],
   "source": [
    "len(file_content)"
   ]
  },
  {
   "cell_type": "code",
   "execution_count": 12,
   "id": "9be066b1",
   "metadata": {},
   "outputs": [],
   "source": [
    "genai.configure(api_key=geminiApiKey)\n",
    "model = genai.GenerativeModel('gemini-pro')\n",
    "\n",
    "def get_raw_text_gemini(file_content,systemMessage):\n",
    "    response = model.generate_content(code_systemMessage+\"\\n\\n\"+file_content\n",
    "                                    ,generation_config=genai.types.GenerationConfig(max_output_tokens=5000))\n",
    "    # candidates=response.candidates[0].content.parts[0].text\n",
    "#     print(response.prompt_feedback)\n",
    "    return(response.text)"
   ]
  },
  {
   "cell_type": "code",
   "execution_count": 15,
   "id": "bc5eb83c",
   "metadata": {},
   "outputs": [
    {
     "data": {
      "text/plain": [
       "'{\\n  \"id\": \"BR-001\",\\n  \"description\": \"The strategy for bidding on a card in the game is determined by the player\\'s strategy code.\",\\n  \"condition\": \"PLAYER-BID = 0\",\\n  \"output\": {}\\n}'"
      ]
     },
     "execution_count": 15,
     "metadata": {},
     "output_type": "execute_result"
    }
   ],
   "source": [
    "with open(cbl_files[7], 'r') as file:\n",
    "    file_content = file.read()\n",
    "    \n",
    "# generate question and answer pairs\n",
    "raw_response=get_raw_text_gemini(file_content,code_systemMessage)\n",
    "raw_response"
   ]
  },
  {
   "cell_type": "code",
   "execution_count": 16,
   "id": "cd3a5587",
   "metadata": {},
   "outputs": [
    {
     "name": "stdout",
     "output_type": "stream",
     "text": [
      "{\n",
      "  \"id\": \"BR-001\",\n",
      "  \"description\": \"The strategy for bidding on a card in the game is determined by the player's strategy code.\",\n",
      "  \"condition\": \"PLAYER-BID = 0\",\n",
      "  \"output\": {}\n",
      "}\n"
     ]
    }
   ],
   "source": [
    "print(raw_response)"
   ]
  },
  {
   "cell_type": "code",
   "execution_count": 17,
   "id": "c1e320cc",
   "metadata": {},
   "outputs": [
    {
     "name": "stdout",
     "output_type": "stream",
     "text": [
      "Done with 1 files out of 12\n",
      "Done with 2 files out of 12\n",
      "Done with 3 files out of 12\n",
      "Done with 4 files out of 12\n",
      "Done with 5 files out of 12\n",
      "Done with 6 files out of 12\n",
      "Done with 7 files out of 12\n",
      "Done with 8 files out of 12\n",
      "Done with 9 files out of 12\n",
      "Done with 10 files out of 12\n",
      "Done with 11 files out of 12\n",
      "Done with 12 files out of 12\n"
     ]
    }
   ],
   "source": [
    "import os\n",
    "\n",
    "def read_cobol_file(file_path):\n",
    "    # Check file size\n",
    "    file_size = os.path.getsize(file_path)\n",
    "    with open(file_path, 'r', encoding='latin-1') as file:\n",
    "        return file.read()\n",
    "\n",
    "i = 1\n",
    "# Iterate through files in the directory\n",
    "for filename in cbl_files:\n",
    "    cobol_code = read_cobol_file(filename)\n",
    "    # if cobol_code is not None:\n",
    "    # Generate Markdown Output\n",
    "    mark_output = get_raw_text_gemini(cobol_code, code_systemMessage)\n",
    "    \n",
    "    # get the output path name\n",
    "    base, ext = os.path.splitext(filename)\n",
    "    filename_without_extension = os.path.basename(base)\n",
    "    output_filename = output_directory + \"/Out_\" + filename_without_extension + \".json\"\n",
    "    with open(output_filename,'w') as f:\n",
    "    # write to the output file\n",
    "        f.write(mark_output)\n",
    "    print(f\"Done with {i} files out of {len(cbl_files)}\")\n",
    "    i += 1"
   ]
  },
  {
   "cell_type": "code",
   "execution_count": null,
   "id": "e2f182c0",
   "metadata": {},
   "outputs": [],
   "source": []
  }
 ],
 "metadata": {
  "kernelspec": {
   "display_name": "Python 3 (ipykernel)",
   "language": "python",
   "name": "python3"
  },
  "language_info": {
   "codemirror_mode": {
    "name": "ipython",
    "version": 3
   },
   "file_extension": ".py",
   "mimetype": "text/x-python",
   "name": "python",
   "nbconvert_exporter": "python",
   "pygments_lexer": "ipython3",
   "version": "3.10.8"
  }
 },
 "nbformat": 4,
 "nbformat_minor": 5
}

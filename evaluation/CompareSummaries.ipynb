{
 "cells": [
  {
   "cell_type": "markdown",
   "id": "389d79f9",
   "metadata": {},
   "source": [
    "# BLEU ROGUE on Code Summary vs BR summary for COBOL code"
   ]
  },
  {
   "cell_type": "code",
   "execution_count": 2,
   "id": "95fc2fcb",
   "metadata": {},
   "outputs": [
    {
     "name": "stdout",
     "output_type": "stream",
     "text": [
      "Requirement already satisfied: evaluate in c:\\users\\chira\\appdata\\local\\programs\\python\\python310\\lib\\site-packages (0.4.1)\n",
      "Requirement already satisfied: datasets>=2.0.0 in c:\\users\\chira\\appdata\\local\\programs\\python\\python310\\lib\\site-packages (from evaluate) (2.12.0)\n",
      "Requirement already satisfied: numpy>=1.17 in c:\\users\\chira\\appdata\\local\\programs\\python\\python310\\lib\\site-packages (from evaluate) (1.23.4)\n",
      "Requirement already satisfied: dill in c:\\users\\chira\\appdata\\local\\programs\\python\\python310\\lib\\site-packages (from evaluate) (0.3.6)\n",
      "Requirement already satisfied: pandas in c:\\users\\chira\\appdata\\local\\programs\\python\\python310\\lib\\site-packages (from evaluate) (1.5.1)\n",
      "Requirement already satisfied: requests>=2.19.0 in c:\\users\\chira\\appdata\\local\\programs\\python\\python310\\lib\\site-packages (from evaluate) (2.28.1)\n",
      "Requirement already satisfied: tqdm>=4.62.1 in c:\\users\\chira\\appdata\\local\\programs\\python\\python310\\lib\\site-packages (from evaluate) (4.65.0)\n",
      "Requirement already satisfied: xxhash in c:\\users\\chira\\appdata\\local\\programs\\python\\python310\\lib\\site-packages (from evaluate) (3.2.0)\n",
      "Requirement already satisfied: multiprocess in c:\\users\\chira\\appdata\\local\\programs\\python\\python310\\lib\\site-packages (from evaluate) (0.70.14)\n",
      "Requirement already satisfied: fsspec>=2021.05.0 in c:\\users\\chira\\appdata\\local\\programs\\python\\python310\\lib\\site-packages (from fsspec[http]>=2021.05.0->evaluate) (2023.5.0)\n",
      "Requirement already satisfied: huggingface-hub>=0.7.0 in c:\\users\\chira\\appdata\\local\\programs\\python\\python310\\lib\\site-packages (from evaluate) (0.21.4)\n",
      "Requirement already satisfied: packaging in c:\\users\\chira\\appdata\\local\\programs\\python\\python310\\lib\\site-packages (from evaluate) (21.3)\n",
      "Requirement already satisfied: responses<0.19 in c:\\users\\chira\\appdata\\local\\programs\\python\\python310\\lib\\site-packages (from evaluate) (0.18.0)\n",
      "Requirement already satisfied: pyarrow>=8.0.0 in c:\\users\\chira\\appdata\\local\\programs\\python\\python310\\lib\\site-packages (from datasets>=2.0.0->evaluate) (12.0.0)\n",
      "Requirement already satisfied: aiohttp in c:\\users\\chira\\appdata\\local\\programs\\python\\python310\\lib\\site-packages (from datasets>=2.0.0->evaluate) (3.8.4)\n",
      "Requirement already satisfied: pyyaml>=5.1 in c:\\users\\chira\\appdata\\local\\programs\\python\\python310\\lib\\site-packages (from datasets>=2.0.0->evaluate) (6.0)\n",
      "Requirement already satisfied: filelock in c:\\users\\chira\\appdata\\local\\programs\\python\\python310\\lib\\site-packages (from huggingface-hub>=0.7.0->evaluate) (3.12.0)\n",
      "Requirement already satisfied: typing-extensions>=3.7.4.3 in c:\\users\\chira\\appdata\\local\\programs\\python\\python310\\lib\\site-packages (from huggingface-hub>=0.7.0->evaluate) (4.5.0)\n",
      "Requirement already satisfied: pyparsing!=3.0.5,>=2.0.2 in c:\\users\\chira\\appdata\\local\\programs\\python\\python310\\lib\\site-packages (from packaging->evaluate) (3.0.9)\n",
      "Requirement already satisfied: charset-normalizer<3,>=2 in c:\\users\\chira\\appdata\\local\\programs\\python\\python310\\lib\\site-packages (from requests>=2.19.0->evaluate) (2.1.1)\n",
      "Requirement already satisfied: idna<4,>=2.5 in c:\\users\\chira\\appdata\\local\\programs\\python\\python310\\lib\\site-packages (from requests>=2.19.0->evaluate) (3.4)\n",
      "Requirement already satisfied: urllib3<1.27,>=1.21.1 in c:\\users\\chira\\appdata\\local\\programs\\python\\python310\\lib\\site-packages (from requests>=2.19.0->evaluate) (1.26.12)\n",
      "Requirement already satisfied: certifi>=2017.4.17 in c:\\users\\chira\\appdata\\local\\programs\\python\\python310\\lib\\site-packages (from requests>=2.19.0->evaluate) (2022.9.24)\n",
      "Requirement already satisfied: colorama in c:\\users\\chira\\appdata\\local\\programs\\python\\python310\\lib\\site-packages (from tqdm>=4.62.1->evaluate) (0.4.5)\n",
      "Requirement already satisfied: python-dateutil>=2.8.1 in c:\\users\\chira\\appdata\\local\\programs\\python\\python310\\lib\\site-packages (from pandas->evaluate) (2.8.2)\n",
      "Requirement already satisfied: pytz>=2020.1 in c:\\users\\chira\\appdata\\local\\programs\\python\\python310\\lib\\site-packages (from pandas->evaluate) (2022.5)\n",
      "Requirement already satisfied: attrs>=17.3.0 in c:\\users\\chira\\appdata\\local\\programs\\python\\python310\\lib\\site-packages (from aiohttp->datasets>=2.0.0->evaluate) (22.1.0)\n",
      "Requirement already satisfied: multidict<7.0,>=4.5 in c:\\users\\chira\\appdata\\local\\programs\\python\\python310\\lib\\site-packages (from aiohttp->datasets>=2.0.0->evaluate) (6.0.4)\n",
      "Requirement already satisfied: async-timeout<5.0,>=4.0.0a3 in c:\\users\\chira\\appdata\\local\\programs\\python\\python310\\lib\\site-packages (from aiohttp->datasets>=2.0.0->evaluate) (4.0.2)\n",
      "Requirement already satisfied: yarl<2.0,>=1.0 in c:\\users\\chira\\appdata\\local\\programs\\python\\python310\\lib\\site-packages (from aiohttp->datasets>=2.0.0->evaluate) (1.9.2)\n",
      "Requirement already satisfied: frozenlist>=1.1.1 in c:\\users\\chira\\appdata\\local\\programs\\python\\python310\\lib\\site-packages (from aiohttp->datasets>=2.0.0->evaluate) (1.3.3)\n",
      "Requirement already satisfied: aiosignal>=1.1.2 in c:\\users\\chira\\appdata\\local\\programs\\python\\python310\\lib\\site-packages (from aiohttp->datasets>=2.0.0->evaluate) (1.3.1)\n",
      "Requirement already satisfied: six>=1.5 in c:\\users\\chira\\appdata\\local\\programs\\python\\python310\\lib\\site-packages (from python-dateutil>=2.8.1->pandas->evaluate) (1.16.0)\n"
     ]
    },
    {
     "name": "stderr",
     "output_type": "stream",
     "text": [
      "WARNING: Ignoring invalid distribution -rotobuf (c:\\users\\chira\\appdata\\local\\programs\\python\\python310\\lib\\site-packages)\n",
      "WARNING: Ignoring invalid distribution -rotobuf (c:\\users\\chira\\appdata\\local\\programs\\python\\python310\\lib\\site-packages)\n"
     ]
    }
   ],
   "source": [
    "!pip install evaluate"
   ]
  },
  {
   "cell_type": "code",
   "execution_count": 3,
   "id": "163ed1c7",
   "metadata": {},
   "outputs": [],
   "source": [
    "import evaluate\n",
    "import os\n"
   ]
  },
  {
   "cell_type": "code",
   "execution_count": 4,
   "id": "64705028",
   "metadata": {},
   "outputs": [],
   "source": [
    "code_summary_directory = \"../Test_COBOLs/Output_Code_Summary\"\n",
    "BR_summary_directory = \"../Test_COBOLs/Output_BR_Summary\""
   ]
  },
  {
   "cell_type": "markdown",
   "id": "6bc1d727",
   "metadata": {},
   "source": [
    "## Reading file content"
   ]
  },
  {
   "cell_type": "code",
   "execution_count": 5,
   "id": "38a5efcc",
   "metadata": {},
   "outputs": [],
   "source": [
    "def read_files(directory):\n",
    "    file_contents = {}\n",
    "    for filename in os.listdir(directory):\n",
    "        if filename.endswith('.md'):\n",
    "            file_path = os.path.join(directory, filename)\n",
    "            with open(file_path, 'r') as file:\n",
    "                lines = [line.rstrip('\\n') for line in file.readlines() if line.strip()]\n",
    "                file_contents[filename] = lines\n",
    "    return file_contents\n",
    "\n",
    "code_summary_list = read_files(code_summary_directory)\n",
    "br_summary_list = read_files(BR_summary_directory)"
   ]
  },
  {
   "cell_type": "code",
   "execution_count": 6,
   "id": "9409dc7d",
   "metadata": {},
   "outputs": [
    {
     "data": {
      "text/plain": [
       "['## COBOL Code Analysis: Rental Car Payment Calculator (PROD2V1) ',\n",
       " 'The provided COBOL code, labeled PROD2V1, functions as a payment calculation program for a rental car service. It reads input data from a file, performs calculations based on the input, and generates an output file with the calculated payment details. Below is a detailed breakdown of its structure and functionality:',\n",
       " '**Data Division:**',\n",
       " '*   **File Section:**',\n",
       " '    *   **RENTAL:** Sequential input file containing rental-related information. Fields include client name, rental type (initial, car type, kilometers traveled, number of days rented), and more.',\n",
       " '    *   **RENTAL-OUT:** Sequential output file to store calculated payment and updated rental information. ',\n",
       " '*   **Working-Storage Section:**',\n",
       " '    *   Various numeric and character variables used for intermediate calculations and storage of results, such as `KILOMETERS_PAYMENT`, `RENTAL_DAYS_TOTAL`, and more.',\n",
       " '**Procedure Division:**',\n",
       " '1.  **Main Procedure:**',\n",
       " '    *   Opens the input and output files.',\n",
       " '    *   Reads a record from the input file.',\n",
       " '    *   Initiates the `CALCULATIONS` paragraph, which processes each record until an end-of-file condition is encountered.',\n",
       " '    *   Closes both input and output files.',\n",
       " '    *   Terminates the program execution.',\n",
       " '2.  **CALCULATIONS Paragraph:**',\n",
       " '    *   Copies various fields from the input record to the output record, including client name, rental type, kilometers, and number of days.',\n",
       " '    *   Performs kilometer-based calculations: If the kilometers traveled exceed 75, it subtracts 75 from the total.',\n",
       " '    *   Utilizes an `EVALUATE` statement to determine the rental car brand based on the rental type:',\n",
       " '        *   Type 1: Volkswagen, with specific payment calculations.',\n",
       " '        *   Type 2: Toyota, with specific payment calculations.',\n",
       " '        *   Type 3: Mercedes, with specific payment calculations.',\n",
       " '    *   Calculates the total rental cost based on kilometers traveled, rental days, and car brand.',\n",
       " '    *   Writes the updated rental information and calculated payment to the output file.',\n",
       " '    *   Displays the output record on the console.',\n",
       " '    *   Reads the next record from the input file, repeating the process until the end of the file is reached.',\n",
       " '**Summary:**',\n",
       " 'This COBOL program is a data processing application that calculates rental car payments based on kilometers traveled, rental days, and car brand. It reads input data from a file, performs calculations, and generates an output file with the updated rental information and calculated payment.']"
      ]
     },
     "execution_count": 6,
     "metadata": {},
     "output_type": "execute_result"
    }
   ],
   "source": [
    "code_summary_list['Out_Car_Rental.md']"
   ]
  },
  {
   "cell_type": "code",
   "execution_count": 7,
   "id": "3fc4aec8",
   "metadata": {},
   "outputs": [
    {
     "data": {
      "text/plain": [
       "['# Business Rules Summary',\n",
       " 'This document outlines four business rules related to rental car fee calculations.',\n",
       " '## Rule 1: Initial Kilometer Subtraction (BR-001)',\n",
       " '* Description: This rule subtracts the first 75 kilometers from the total kilometers, if applicable.',\n",
       " '* Condition: `KILOMETERS > 75`',\n",
       " '* Output:',\n",
       " '\\t* If the condition is met: `KILOMETERS = KILOMETERS - 75`',\n",
       " '## Rule 2: Volkswagen Cars Payment Calculation (BR-002)',\n",
       " '* Description: This rule calculates the payment for Volkswagen cars.',\n",
       " '* Condition: `CAR_TYPE = 1`',\n",
       " '* Output:',\n",
       " '\\t* Kilometer Payment: `KILOMETERS_PAYMENT = KILOMETERS * 0.5`',\n",
       " '\\t* Rental Days Payment: `RENTAL_DAYS_TOTAL = 10 * NUM_DAYS`',\n",
       " '\\t* Total Payment: `PAYMENT = KILOMETERS_PAYMENT + RENTAL_DAYS_TOTAL`',\n",
       " '## Rule 3: Toyota Cars Payment Calculation (BR-003)',\n",
       " '* Description: This rule calculates the payment for Toyota cars.',\n",
       " '* Condition: `CAR_TYPE = 2`',\n",
       " '* Output:',\n",
       " '\\t* Kilometer Payment: `KILOMETERS_PAYMENT = KILOMETERS * 0.55`',\n",
       " '\\t* Rental Days Payment: `RENTAL_DAYS_TOTAL = 12.5 * NUM_DAYS`',\n",
       " '\\t* Total Payment: `PAYMENT = KILOMETERS_PAYMENT + RENTAL_DAYS_TOTAL`',\n",
       " '## Rule 4: Mercedes Cars Payment Calculation (BR-004)',\n",
       " '* Description: This rule calculates the payment for Mercedes cars.',\n",
       " '* Condition: `CAR_TYPE = 3`',\n",
       " '* Output:',\n",
       " '\\t* Kilometer Payment: `KILOMETERS_PAYMENT = KILOMETERS * 0.65`',\n",
       " '\\t* Rental Days Payment: `RENTAL_DAYS_TOTAL = 16 * NUM_DAYS`',\n",
       " '\\t* Total Payment: `PAYMENT = KILOMETERS_PAYMENT + RENTAL_DAYS_TOTAL`']"
      ]
     },
     "execution_count": 7,
     "metadata": {},
     "output_type": "execute_result"
    }
   ],
   "source": [
    "br_summary_list[\"Out_Car_Rental.md\"]"
   ]
  },
  {
   "cell_type": "code",
   "execution_count": 8,
   "id": "e67de010",
   "metadata": {},
   "outputs": [
    {
     "name": "stdout",
     "output_type": "stream",
     "text": [
      "12\n",
      "12\n"
     ]
    }
   ],
   "source": [
    "print(len(code_summary_list))\n",
    "print(len(br_summary_list))"
   ]
  },
  {
   "cell_type": "markdown",
   "id": "64ffb669",
   "metadata": {},
   "source": [
    "## Loading the BLEU module and evaluating"
   ]
  },
  {
   "cell_type": "code",
   "execution_count": 9,
   "id": "12d3d832",
   "metadata": {},
   "outputs": [
    {
     "name": "stdout",
     "output_type": "stream",
     "text": [
      "File name:Out_Car_Rental.md\n",
      "Result:{'bleu': 0.0, 'precisions': [0.15337423312883436, 0.006711409395973154, 0.0, 0.0], 'brevity_penalty': 0.6292729434506871, 'length_ratio': 0.6834381551362684, 'translation_length': 326, 'reference_length': 477}\n",
      "\n",
      "\n",
      "File name:Out_ClassCondition.md\n",
      "Result:{'bleu': 0.0, 'precisions': [0.3125, 0.04895104895104895, 0.015873015873015872, 0.0], 'brevity_penalty': 0.3587964654059516, 'length_ratio': 0.49382716049382713, 'translation_length': 160, 'reference_length': 324}\n",
      "\n",
      "\n",
      "File name:Out_cobol-calc.md\n",
      "Result:{'bleu': 0.0, 'precisions': [0.24324324324324326, 0.0, 0.0, 0.0], 'brevity_penalty': 0.42876476368382394, 'length_ratio': 0.5414634146341464, 'translation_length': 222, 'reference_length': 410}\n",
      "\n",
      "\n",
      "File name:Out_ConditionNameCondition.md\n",
      "Result:{'bleu': 0.09224478976144551, 'precisions': [0.3333333333333333, 0.13592233009708737, 0.10526315789473684, 0.06896551724137931], 'brevity_penalty': 0.6849712733063196, 'length_ratio': 0.7254901960784313, 'translation_length': 111, 'reference_length': 153}\n",
      "\n",
      "\n",
      "File name:Out_CWBWDATE.md\n",
      "Result:{'bleu': 0.0, 'precisions': [0.2546816479400749, 0.02834008097165992, 0.00881057268722467, 0.0], 'brevity_penalty': 0.2938402281219291, 'length_ratio': 0.4494949494949495, 'translation_length': 267, 'reference_length': 594}\n",
      "\n",
      "\n",
      "File name:Out_FIZZBUZZ.md\n",
      "Result:{'bleu': 0.0, 'precisions': [0.2446043165467626, 0.01171875, 0.004273504273504274, 0.0], 'brevity_penalty': 0.6332851195789658, 'length_ratio': 0.6864197530864198, 'translation_length': 278, 'reference_length': 405}\n",
      "\n",
      "\n",
      "File name:Out_GETLOAN.md\n",
      "Result:{'bleu': 0.0, 'precisions': [0.21774193548387097, 0.017543859649122806, 0.0, 0.0], 'brevity_penalty': 0.6790253796134038, 'length_ratio': 0.7209302325581395, 'translation_length': 124, 'reference_length': 172}\n",
      "\n",
      "\n",
      "File name:Out_player-turn.md\n",
      "Result:{'bleu': 0.0, 'precisions': [0.3090909090909091, 0.020202020202020204, 0.011363636363636364, 0.0], 'brevity_penalty': 0.4617520257827378, 'length_ratio': 0.5641025641025641, 'translation_length': 110, 'reference_length': 195}\n",
      "\n",
      "\n",
      "File name:Out_PROGCOB07.md\n",
      "Result:{'bleu': 0.0, 'precisions': [0.23711340206185566, 0.0449438202247191, 0.0, 0.0], 'brevity_penalty': 0.7889018198517954, 'length_ratio': 0.8083333333333333, 'translation_length': 97, 'reference_length': 120}\n",
      "\n",
      "\n",
      "File name:Out_PROGCOB08.md\n",
      "Result:{'bleu': 0.0, 'precisions': [0.26548672566371684, 0.02912621359223301, 0.0, 0.0], 'brevity_penalty': 0.6311719237754226, 'length_ratio': 0.6848484848484848, 'translation_length': 113, 'reference_length': 165}\n",
      "\n",
      "\n",
      "File name:Out_shop.md\n",
      "Result:{'bleu': 0.0, 'precisions': [0.26525198938992045, 0.014577259475218658, 0.0, 0.0], 'brevity_penalty': 0.4758247949749086, 'length_ratio': 0.573820395738204, 'translation_length': 377, 'reference_length': 657}\n",
      "\n",
      "\n",
      "File name:Out_SignCondition.md\n",
      "Result:{'bleu': 0.0, 'precisions': [0.30666666666666664, 0.0, 0.0, 0.0], 'brevity_penalty': 0.3219582715376759, 'length_ratio': 0.46875, 'translation_length': 150, 'reference_length': 320}\n",
      "\n",
      "\n",
      "Average BLEU score:0.007687065813453793\n"
     ]
    }
   ],
   "source": [
    "bleu = evaluate.load(\"bleu\")\n",
    "sum_bleu = 0\n",
    "for file_name in code_summary_list:\n",
    "    reference = code_summary_list[file_name]\n",
    "    prediction = br_summary_list[file_name]\n",
    "    min_size = min(len(reference), len(prediction))\n",
    "    reference = reference[:min_size]\n",
    "    prediction = prediction[:min_size]\n",
    "    \n",
    "    result = bleu.compute(predictions = prediction, references = reference)\n",
    "    sum_bleu += result['bleu']\n",
    "    print(f\"File name:{file_name}\\nResult:{result}\\n\\n\")\n",
    "\n",
    "avg_bleu = sum_bleu/len(code_summary_list)\n",
    "print(f\"Average BLEU score:{avg_bleu}\")"
   ]
  },
  {
   "cell_type": "markdown",
   "id": "18e8862b",
   "metadata": {},
   "source": [
    "## Loading the ROGUE module and evaluating"
   ]
  },
  {
   "cell_type": "code",
   "execution_count": 10,
   "id": "caa9f6ce",
   "metadata": {},
   "outputs": [
    {
     "name": "stdout",
     "output_type": "stream",
     "text": [
      "Requirement already satisfied: rouge_score in c:\\users\\chira\\appdata\\local\\programs\\python\\python310\\lib\\site-packages (0.1.2)\n",
      "Requirement already satisfied: absl-py in c:\\users\\chira\\appdata\\local\\programs\\python\\python310\\lib\\site-packages (from rouge_score) (1.4.0)\n",
      "Requirement already satisfied: nltk in c:\\users\\chira\\appdata\\local\\programs\\python\\python310\\lib\\site-packages (from rouge_score) (3.2.5)\n",
      "Requirement already satisfied: numpy in c:\\users\\chira\\appdata\\local\\programs\\python\\python310\\lib\\site-packages (from rouge_score) (1.23.4)\n",
      "Requirement already satisfied: six>=1.14.0 in c:\\users\\chira\\appdata\\local\\programs\\python\\python310\\lib\\site-packages (from rouge_score) (1.16.0)\n"
     ]
    },
    {
     "name": "stderr",
     "output_type": "stream",
     "text": [
      "WARNING: Ignoring invalid distribution -rotobuf (c:\\users\\chira\\appdata\\local\\programs\\python\\python310\\lib\\site-packages)\n",
      "WARNING: Ignoring invalid distribution -rotobuf (c:\\users\\chira\\appdata\\local\\programs\\python\\python310\\lib\\site-packages)\n"
     ]
    }
   ],
   "source": [
    "!pip install rouge_score"
   ]
  },
  {
   "cell_type": "code",
   "execution_count": 11,
   "id": "890b1576",
   "metadata": {},
   "outputs": [
    {
     "name": "stdout",
     "output_type": "stream",
     "text": [
      "File name:Out_Car_Rental.md\n",
      "Result:{'rouge1': 0.07515326030077582, 'rouge2': 0.0057823129251700685, 'rougeL': 0.07474626990725085, 'rougeLsum': 0.07447336794249472}\n",
      "\n",
      "\n",
      "File name:Out_ClassCondition.md\n",
      "Result:{'rouge1': 0.07701734711716562, 'rouge2': 0.017202174987642118, 'rougeL': 0.06823703407054532, 'rougeLsum': 0.06766781243401293}\n",
      "\n",
      "\n",
      "File name:Out_cobol-calc.md\n",
      "Result:{'rouge1': 0.04616330097273836, 'rouge2': 0.0, 'rougeL': 0.04260311846518743, 'rougeLsum': 0.042479435505103136}\n",
      "\n",
      "\n",
      "File name:Out_ConditionNameCondition.md\n",
      "Result:{'rouge1': 0.1344211344211344, 'rouge2': 0.061155913978494625, 'rougeL': 0.11231060606060606, 'rougeLsum': 0.11590423465423465}\n",
      "\n",
      "\n",
      "File name:Out_CWBWDATE.md\n",
      "Result:{'rouge1': 0.06460672475378358, 'rouge2': 0.024166666666666666, 'rougeL': 0.05356591121297004, 'rougeLsum': 0.05234324278441925}\n",
      "\n",
      "\n",
      "File name:Out_FIZZBUZZ.md\n",
      "Result:{'rouge1': 0.08077578869333628, 'rouge2': 0.006993006993006992, 'rougeL': 0.07298324531939755, 'rougeLsum': 0.0733226862402338}\n",
      "\n",
      "\n",
      "File name:Out_GETLOAN.md\n",
      "Result:{'rouge1': 0.06553480475382004, 'rouge2': 0.012962962962962963, 'rougeL': 0.04649610678531703, 'rougeLsum': 0.04938235466307593}\n",
      "\n",
      "\n",
      "File name:Out_player-turn.md\n",
      "Result:{'rouge1': 0.06757284546996248, 'rouge2': 0.009244992295839752, 'rougeL': 0.06266655899216668, 'rougeLsum': 0.06461836803172885}\n",
      "\n",
      "\n",
      "File name:Out_PROGCOB07.md\n",
      "Result:{'rouge1': 0.04906204906204906, 'rouge2': 0.013157894736842105, 'rougeL': 0.047619047619047616, 'rougeLsum': 0.047619047619047616}\n",
      "\n",
      "\n",
      "File name:Out_PROGCOB08.md\n",
      "Result:{'rouge1': 0.030814814814814816, 'rouge2': 0.004166666666666667, 'rougeL': 0.026814814814814812, 'rougeLsum': 0.026814814814814812}\n",
      "\n",
      "\n",
      "File name:Out_shop.md\n",
      "Result:{'rouge1': 0.0541924228111203, 'rouge2': 0.008625736056763972, 'rougeL': 0.05033174843048793, 'rougeLsum': 0.05079279164888408}\n",
      "\n",
      "\n",
      "File name:Out_SignCondition.md\n",
      "Result:{'rouge1': 0.04148770619358855, 'rouge2': 0.0, 'rougeL': 0.03669467787114846, 'rougeLsum': 0.03669467787114846}\n",
      "\n",
      "\n",
      "Average rouge1:0.06556684994702411\n",
      "Average rouge2:0.013621527355837994\n",
      "Average rouge1:0.06556684994702411\n",
      "Average rouge1:0.06556684994702411\n"
     ]
    }
   ],
   "source": [
    "rouge = evaluate.load(\"rouge\")\n",
    "sum_rouge1, sum_rouge2, sum_rougeL, sum_rougeLsum = 0, 0, 0, 0\n",
    "for file_name in code_summary_list:\n",
    "    reference = code_summary_list[file_name]\n",
    "    prediction = br_summary_list[file_name]\n",
    "    min_size = min(len(reference), len(prediction))\n",
    "    reference = reference[:min_size]\n",
    "    prediction = prediction[:min_size]\n",
    "    result = rouge.compute(predictions = prediction, references = reference)\n",
    "    \n",
    "    sum_rouge1 += result['rouge1']\n",
    "    sum_rouge2 += result['rouge2']\n",
    "    sum_rougeL += result['rougeL']\n",
    "    sum_rougeLsum += result['rougeLsum']\n",
    "    \n",
    "    print(f\"File name:{file_name}\\nResult:{result}\\n\\n\")\n",
    "    \n",
    "avg_rouge1 = sum_rouge1/len(code_summary_list)\n",
    "avg_rouge2 = sum_rouge2/len(code_summary_list)\n",
    "avg_rougeL = sum_rougeL/len(code_summary_list)\n",
    "avg_rougeLsum = sum_rougeLsum/len(code_summary_list)\n",
    "\n",
    "print(f\"Average rouge1:{avg_rouge1}\")\n",
    "print(f\"Average rouge2:{avg_rouge2}\")\n",
    "print(f\"Average rouge1:{avg_rouge1}\")\n",
    "print(f\"Average rouge1:{avg_rouge1}\")\n"
   ]
  },
  {
   "cell_type": "code",
   "execution_count": null,
   "id": "5b2af89a",
   "metadata": {},
   "outputs": [],
   "source": []
  }
 ],
 "metadata": {
  "kernelspec": {
   "display_name": "Python 3 (ipykernel)",
   "language": "python",
   "name": "python3"
  },
  "language_info": {
   "codemirror_mode": {
    "name": "ipython",
    "version": 3
   },
   "file_extension": ".py",
   "mimetype": "text/x-python",
   "name": "python",
   "nbconvert_exporter": "python",
   "pygments_lexer": "ipython3",
   "version": "3.10.8"
  }
 },
 "nbformat": 4,
 "nbformat_minor": 5
}
